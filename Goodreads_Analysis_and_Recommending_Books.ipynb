{
  "nbformat": 4,
  "nbformat_minor": 0,
  "metadata": {
    "colab": {
      "name": "Goodreads: Analysis and Recommending Books.ipynb",
      "private_outputs": true,
      "provenance": [],
      "collapsed_sections": [],
      "authorship_tag": "ABX9TyPVp95Jad1dnbFohY+ExMj3",
      "include_colab_link": true
    },
    "kernelspec": {
      "name": "python3",
      "display_name": "Python 3"
    },
    "language_info": {
      "name": "python"
    }
  },
  "cells": [
    {
      "cell_type": "markdown",
      "metadata": {
        "id": "view-in-github",
        "colab_type": "text"
      },
      "source": [
        "<a href=\"https://colab.research.google.com/github/DS-Jerry-in-Taiwan/project-set/blob/main/Goodreads_Analysis_and_Recommending_Books.ipynb\" target=\"_parent\"><img src=\"https://colab.research.google.com/assets/colab-badge.svg\" alt=\"Open In Colab\"/></a>"
      ]
    },
    {
      "cell_type": "markdown",
      "metadata": {
        "id": "CXcf2MtKsGyv"
      },
      "source": [
        "# Goodreads: Analysis and Recommending Books\n",
        "---\n",
        "The analysis and code refer to the [kaggle note](https://www.kaggle.com/hoshi7/goodreads-analysis-and-recommending-books).\n",
        "We are going to cover the demographic below：\n",
        "1. Does any relationship lie between ratings and the total ratings given?\n",
        "2. Where do majority of the books lie, in terms of ratings - Does reading a book really bring forth bias for the ratings?\n",
        "3. Do authors tend to perform same over time, with all their newer books? Or do they just fizzle out.\n",
        "4. Do number of pages make an impact on reading styles, ratings and popularity?\n",
        "Can books be recommended based on ratings? Is that a factor which can work?\n"
      ]
    },
    {
      "cell_type": "markdown",
      "metadata": {
        "id": "H7bwSWNludnC"
      },
      "source": [
        "# Agenda: What's the analysis aboout\n",
        "---"
      ]
    },
    {
      "cell_type": "code",
      "metadata": {
        "id": "CwbLzQnRwgeQ"
      },
      "source": [
        "!pip install \"isbnlib\"\n",
        "!pip install newspaper3k\n",
        "!pip install goodreads_api_client"
      ],
      "execution_count": null,
      "outputs": []
    },
    {
      "cell_type": "code",
      "metadata": {
        "id": "IN3SkR0WutI1"
      },
      "source": [
        "import numpy as np\n",
        "import pandas as pd\n",
        "import os\n",
        "import seaborn as sns\n",
        "import isbnlib \n",
        "from newspaper import Article\n",
        "import matplotlib.pyplot as plt\n",
        "plt.style.use('ggplot')\n",
        "from progressbar import ProgressBar\n",
        "import re\n",
        "from scipy.cluster.vq import kmeans, vq\n",
        "from pylab import plot, show\n",
        "from matplotlib.lines import Line2D\n",
        "import matplotlib.colors as mcolors\n",
        "import goodreads_api_client as gr\n",
        "from sklearn.cluster import KMeans\n",
        "from sklearn import neighbors\n",
        "from sklearn.model_selection import train_test_split\n",
        "from sklearn.preprocessing import MinMaxScaler\n",
        "import warnings\n",
        "from google.colab import drive\n",
        "warnings.filterwarnings('ignore')\n",
        "\n",
        "drive.mount(\"/content/drive\")"
      ],
      "execution_count": null,
      "outputs": []
    },
    {
      "cell_type": "code",
      "metadata": {
        "id": "QSyr2FJyxekn"
      },
      "source": [
        "#Redirect the direction to the folder I choose in mydrive\n",
        "\n",
        "main_path=\"/content/drive/MyDrive/adventure_time/book data/\"\n",
        "os.chdir(main_path)\n",
        "#Display the objects on the direction\n",
        "os.listdir()\n",
        "zip_file = [x for x in os.listdir() if x.endswith(\"zip\")][0]"
      ],
      "execution_count": null,
      "outputs": []
    },
    {
      "cell_type": "code",
      "metadata": {
        "id": "NtRocpWOFBlt"
      },
      "source": [
        "# Unzip file to the path\n",
        "import zipfile\n",
        "\n",
        "path_to_zip_file = os.path.join(main_path,zip_file)\n",
        "\n",
        "with zipfile.ZipFile(path_to_zip_file, 'r') as zip_ref:\n",
        "    name=zip_ref.namelist()[0] #store the data in the zipfile\n",
        "    print(name)\n",
        "    zip_ref.extractall(os.getcwd())\n"
      ],
      "execution_count": null,
      "outputs": []
    },
    {
      "cell_type": "markdown",
      "metadata": {
        "id": "NZ1we-7VueaW"
      },
      "source": [
        "## Get basic Ideas"
      ]
    },
    {
      "cell_type": "code",
      "metadata": {
        "id": "Zn-lIPnTHyvj"
      },
      "source": [
        "#Read file on the direction\n",
        "filepath = path_to_zip_file = os.path.join(main_path,name)\n",
        "filepath\n",
        "df = pd.read_csv(filepath,error_bad_lines =False)"
      ],
      "execution_count": null,
      "outputs": []
    },
    {
      "cell_type": "code",
      "metadata": {
        "id": "8S7pSK0yxxuW"
      },
      "source": [
        "# Find out the shape of dataset\n",
        "print(\"the row number: {}\\n the column number: {}\".format(df.shape[0],df.shape[1]))\n",
        "\n",
        "#Check the head of dataset\n",
        "df.head()"
      ],
      "execution_count": null,
      "outputs": []
    },
    {
      "cell_type": "code",
      "metadata": {
        "id": "kYiGY-xJxvO-"
      },
      "source": [
        "# To replace the J.K. Rowling/Mary GrandPré\n",
        "df.replace(to_replace=\"J.K. Rowling/Mary GrandPré\",value=\"J.K. Rowling\",inplace=True)\n",
        "df.head()"
      ],
      "execution_count": null,
      "outputs": []
    },
    {
      "cell_type": "markdown",
      "metadata": {
        "id": "PlDI-wSKVTR6"
      },
      "source": [
        "## Columns Description:\n",
        "\n",
        "- bookID Contains the unique ID for each book/series\n",
        "- title contains the titles of the books\n",
        "- authors contains the author of the particular book\n",
        "- average_rating the average rating of the books, as decided by the users\n",
        "- ISBN ISBN(10) number, tells the information about a book - such as edition and publisher\n",
        "- ISBN 13 The new format for ISBN, implemented in 2007. 13 digits\n",
        "language_code Tells the language for the books\n",
        "- Num_pages Contains the number of pages for the book\n",
        "- Ratings_count Contains the number of ratings given for the book\n",
        "text_reviews_count Has the count of reviews left by users"
      ]
    },
    {
      "cell_type": "markdown",
      "metadata": {
        "id": "QchcRzAyVq8A"
      },
      "source": [
        "# Data Exploration Analysis\n",
        "---"
      ]
    },
    {
      "cell_type": "markdown",
      "metadata": {
        "id": "4-IJd5FgV2uZ"
      },
      "source": [
        "## Which are the most occurances in the list"
      ]
    },
    {
      "cell_type": "code",
      "metadata": {
        "id": "4Wu_UtiduS90"
      },
      "source": [
        "#plot the occurances of top 20\n",
        "sns.set_context('poster')\n",
        "plt.figure(figsize=(20,20))\n",
        "books = df['title'].value_counts()[:20]\n",
        "books\n",
        "\n",
        "sns.barplot(x=books,y=books.index,palette='deep')\n",
        "plt.title(\"Most Occurring Books\")\n",
        "plt.xlabel(\"Number of occurances\")\n",
        "plt.ylabel(\"Books\")\n"
      ],
      "execution_count": null,
      "outputs": []
    },
    {
      "cell_type": "markdown",
      "metadata": {
        "id": "uJrJTt8Hdl3g"
      },
      "source": [
        "## What's the distribution of langueges"
      ]
    },
    {
      "cell_type": "code",
      "metadata": {
        "id": "rtSDcAYptY5r"
      },
      "source": [
        "sns.set_context('paper')\n",
        "# plt.subplots(figsize=(50,20))\n",
        "plt.figure(figsize=(50,20))\n",
        "# plt.rcParams[\"figure.figsize\"] = [10, 10]\n",
        "ax=df.groupby('language_code')['title'].count().plot.bar()\n",
        "plt.title('Language Code')\n",
        "plt.xticks(fontsize = 30)\n",
        "for p in ax.patches:\n",
        "  ax.annotate(str(p.get_height()), (p.get_x()-0.3, p.get_height()+100),\n",
        "   fontsize = 20, color = 'k')\n",
        "\n",
        "# ax = df.groupby('language_code')['title'].count().plot.bar()\n",
        "# plt.title('Language Code')\n",
        "# plt.xticks(fontsize = 15)\n",
        "# for p in ax.patches:\n",
        "#     ax.annotate(str(p.get_height()), (p.get_x()-0.3, p.get_height()+100))\n"
      ],
      "execution_count": null,
      "outputs": []
    },
    {
      "cell_type": "markdown",
      "metadata": {
        "id": "vkXz03fXYEC7"
      },
      "source": [
        "## what are the top 10 rated books\n",
        "---"
      ]
    },
    {
      "cell_type": "code",
      "metadata": {
        "id": "Ix3F1Oz0tJHc"
      },
      "source": [
        "most_rated=df.sort_values(\"ratings_count\",ascending=False).head(10).set_index(\"title\")\n",
        "plt.figure(figsize=(30,30))\n",
        "plt.yticks(fontsize=20)\n",
        "sns.barplot(most_rated['ratings_count'],most_rated.index,palette='rocket')"
      ],
      "execution_count": null,
      "outputs": []
    },
    {
      "cell_type": "markdown",
      "metadata": {
        "id": "g8lSu28ItHPt"
      },
      "source": [
        "## Who are the authors with 10 top most books? \n",
        "---"
      ]
    },
    {
      "cell_type": "code",
      "metadata": {
        "id": "3krgPQxMsmIf"
      },
      "source": [
        "plt.figure(figsize=(30,30))\n",
        "# sns.set_context('talk')\n",
        "most_book = df.groupby('authors')['title'].count().reset_index().sort_values(\"title\",ascending=False).head(10).set_index(\"authors\")\n",
        "# most_book_index = list(most_book.groupby('authors')['title'].count().index)\n",
        "ax = sns.barplot(most_book['title'],most_book.index, palette='icefire_r')\n",
        "plt.yticks(fontsize=15)\n",
        "\n",
        "for i in ax.patches:\n",
        "    ax.text(i.get_width()+.3, i.get_y()+0.5, str(round(i.get_width())), fontsize = 20, color = 'k')"
      ],
      "execution_count": null,
      "outputs": []
    },
    {
      "cell_type": "markdown",
      "metadata": {
        "id": "BzWft2BFXrX2"
      },
      "source": [
        "## Getting overall performance for an author over time\n",
        "---\n",
        "- First, create functions to get the information of books from isbn"
      ]
    },
    {
      "cell_type": "code",
      "metadata": {
        "id": "TdgX5KUgXnSZ"
      },
      "source": [
        "# Creating a function to get book details from the ISBN 13 value.\n",
        "\n",
        "#Alternate scraping solution, when both the API(s) fails\n",
        "# Creating a function to get book details from the ISBN 13 value.\n",
        "\n",
        "#Alternate scraping solution, when both the API(s) fails\n",
        "def html(isbn):\n",
        "    url = \"\".join(['https://isbndb.com/book/',str(isbn)])\n",
        "    article = Article(url)\n",
        "    #article = 'https://isbndb.com/book/9780450524684'\n",
        "    article.download()\n",
        "    article.parse()\n",
        "    ar = article.html\n",
        "    ar = ar[9300:9900]\n",
        "    return ar\n",
        "\n",
        "def reg(l):\n",
        "    return re.search(r'(\\b\\d{4})\\b',l).group()[0]\n",
        "    \n",
        "#Gathering the data for the year column for the books from their ISBN 13 values\n",
        "def bookdata(df):\n",
        "    year=[]\n",
        "    pbar = ProgressBar()\n",
        "    for isbn in pbar(df.isbn13):\n",
        "        try:\n",
        "            details = isbnlib.meta(isbn)\n",
        "            year.append(details['Year'])\n",
        "        except :\n",
        "            #Trying out with goodreads api now\n",
        "            try: \n",
        "                book_detail = client.Book.show_by_isbn(isbn)\n",
        "                keys_wanted = ['publication_year']\n",
        "                reduced_book = {k:v for k,v in book_detail.items() if k in keys_wanted}\n",
        "                year.append((reduced_book['publication_year']))\n",
        "            \n",
        "            except: \n",
        "                #Going with webscraping\n",
        "                try:\n",
        "                    y = html(isbn)\n",
        "                    year_extracted = reg(y) #Extracting year with regex\n",
        "                    year.append(y)\n",
        "                except:\n",
        "                    year.append('0')\n",
        "                \n",
        "    return year\n",
        "\n",
        "def plot_author_chart(author_df):\n",
        "    year = bookdata(author_df)\n",
        "    author_df = final_df(author_df, year)\n",
        "    author_df.dropna(0, inplace=True)\n",
        "    author_df = author_df[author_df['Year'].str.isnumeric()]\n",
        "    author_df = author_df.set_index('title')\n",
        "    author_df = author_df[author_df.Year !='0']\n",
        "    plt.figure(figsize=(15,15))\n",
        "    sns.set_context('talk')\n",
        "    plt.xticks(rotation=30)\n",
        "    ax =  sns.barplot(author_df['Year'], author_df['average_rating'], palette='deep')\n",
        "    ax.set_title(\"Average rating of books over time, \"+ author_df.authors[1])\n",
        "    plt.xticks(rotation=30)\n",
        "    return ax\n",
        "\n",
        "\n",
        "\n",
        "# The finction for getting the final dataframe for the charts\n",
        "def final_df(df1, l):\n",
        "    year_df = pd.DataFrame(l, columns=['Year'])\n",
        "    df1 = df1.reset_index(drop=True)\n",
        "    final = df1[['authors', 'average_rating', 'title']].join(year_df)\n",
        "    return final"
      ],
      "execution_count": null,
      "outputs": []
    },
    {
      "cell_type": "markdown",
      "metadata": {
        "id": "vdRdmlLYXn4o"
      },
      "source": [
        "- Second to get the sunset of authors "
      ]
    },
    {
      "cell_type": "code",
      "metadata": {
        "id": "taG88a_-aSii"
      },
      "source": [
        "author_count=df['authors'].value_counts()[:10].reset_index().rename(columns={'index':\"author\",\"authors\":\"count\"})\n",
        "#Let's test the top 4 authors and \"J.K. Rowling\" performanc\n",
        "cc = list(author_count['author'][:4])\n",
        "top_4.append(\"J.K. Rowling\")\n",
        "\n"
      ],
      "execution_count": null,
      "outputs": []
    },
    {
      "cell_type": "code",
      "metadata": {
        "id": "58ux3X-2aieu"
      },
      "source": [
        "pbar = ProgressBar()\n",
        "# pbar(df.isbn13[0])\n",
        "for i in pbar(df.isbn13):\n",
        "  print(i)\n",
        "  isbnlib.meta(i)"
      ],
      "execution_count": null,
      "outputs": []
    },
    {
      "cell_type": "code",
      "metadata": {
        "id": "reDNesApggwp"
      },
      "source": [
        ""
      ],
      "execution_count": null,
      "outputs": []
    },
    {
      "cell_type": "markdown",
      "metadata": {
        "id": "_TTcR1bkdnXD"
      },
      "source": [
        "Ranging from authors spanning a few decades with their titles to some of the current favourites, let's see how they fared over time.\n",
        "\n"
      ]
    },
    {
      "cell_type": "code",
      "metadata": {
        "id": "q9WcxjRGkg4_"
      },
      "source": [
        "import string\n",
        "pbar = ProgressBar()\n",
        "for isbn in pbar(author1.isbn13):\n",
        "  print(isbn)\n",
        "  # html(isbn)\n",
        "  url = \"\".join(['https://isbndb.com/book/',str(isbn)])\n",
        "  article = Article(url)\n",
        "  article.download()\n",
        "  article.parse()\n",
        "  ar = article.html\n",
        "  ar = ar[9300:9900]\n",
        "  # print(reg(ar))\n",
        "  print(ar)\n"
      ],
      "execution_count": null,
      "outputs": []
    },
    {
      "cell_type": "code",
      "metadata": {
        "id": "CRVSCAREXdVl"
      },
      "source": [
        "df[(df['language_code']=='eng') & (df['authors']==top_4[0])]"
      ],
      "execution_count": null,
      "outputs": []
    },
    {
      "cell_type": "code",
      "metadata": {
        "id": "xXOTw6vTd-mT"
      },
      "source": [
        "# For the sake of brevity, only english language has been used.\n",
        "author_df = df[(df['authors']==top_4[0]) & (df['language_code']=='eng')]\n",
        "# author_df = author_df[author_df['language_code']=='eng']\n",
        "plot_author_chart(author_df)\n",
        "\n",
        "# author1 = df[(df['authors'] == top_4[0]) & (df['language_code']=='eng')]\n",
        "# plot_author_chart(author1)"
      ],
      "execution_count": null,
      "outputs": []
    },
    {
      "cell_type": "code",
      "metadata": {
        "id": "6N5RLtxrhl3K"
      },
      "source": [
        "author_df = df[df['authors']==top_4[0]]\n",
        "author_df = author_df[author_df['language_code']=='eng']\n",
        "# plot_author_chart(author_df)"
      ],
      "execution_count": null,
      "outputs": []
    },
    {
      "cell_type": "code",
      "metadata": {
        "id": "zFsLEGHHiMrl"
      },
      "source": [
        "year = bookdata(author_df)\n",
        "author_df = final_df(author_df, year)\n",
        "author_df.dropna(0, inplace=True)\n",
        "author_df = author_df[author_df['Year'].str.isnumeric()]\n",
        "author_df = author_df.set_index('title')\n",
        "author_df = author_df[author_df.Year !='0']\n",
        "plt.figure(figsize=(15,15))\n",
        "sns.set_context('talk')\n",
        "plt.xticks(rotation=30)\n",
        "# ax =  sns.barplot(author_df['Year'], author_df['average_rating'], palette='deep')\n",
        "# ax.set_title(\"Average rating of books over time, \"+ author_df.authors[1])\n",
        "# plt.xticks(rotation=30)\n",
        "\n"
      ],
      "execution_count": null,
      "outputs": []
    },
    {
      "cell_type": "markdown",
      "metadata": {
        "id": "HbeScmMcmu_u"
      },
      "source": [
        "# Topic Modelling\n",
        "---\n",
        "KMeans Clustering without outliers\n",
        "The goal is toto finnd groups in data.\n",
        "With this, I attemp to find a relationship or groups between the rating count and average value."
      ]
    },
    {
      "cell_type": "code",
      "metadata": {
        "id": "Kin8f_c7pV9A"
      },
      "source": [
        "# trial = df[['average_rating','ratings_count']]\n",
        "# data = np.asarray([np.asarray(trial['average_rating']),np.asarray(trial['ratings_count'])]).T\n",
        "trial = df[['average_rating', 'ratings_count']]\n",
        "data = np.asarray([np.asarray(trial['average_rating']), np.asarray(trial['ratings_count'])]).T\n",
        "# data = np.asarray(trial)\n"
      ],
      "execution_count": null,
      "outputs": []
    },
    {
      "cell_type": "code",
      "metadata": {
        "id": "7TI2_TvUnj1P"
      },
      "source": [
        "X = data\n",
        "distortions = []\n",
        "for k in range(2,30):\n",
        "  k_means = KMeans(n_clusters=k)\n",
        "  k_means.fit(X)\n",
        "  distortions.append(k_means.inertia_)"
      ],
      "execution_count": null,
      "outputs": []
    },
    {
      "cell_type": "code",
      "metadata": {
        "id": "LhcuVwDMuOsl"
      },
      "source": [
        "fig = plt.figure(figsize=(15,10))\n",
        "plt.plot(range(2,30),distortions,'bx-')\n",
        "# plt.ylim((0,7))\n",
        "plt.title('Elbow Curve')"
      ],
      "execution_count": null,
      "outputs": []
    },
    {
      "cell_type": "code",
      "metadata": {
        "id": "hxloKqJInHzK"
      },
      "source": [
        "centroids, _ = kmeans(data,5)\n",
        "idx, _ = vq(data, centroids)\n",
        "centroids"
      ],
      "execution_count": null,
      "outputs": []
    },
    {
      "cell_type": "code",
      "metadata": {
        "id": "ru-CakP6y643"
      },
      "source": [
        "type(data)"
      ],
      "execution_count": null,
      "outputs": []
    },
    {
      "cell_type": "code",
      "metadata": {
        "id": "0yGKkNaB0kc3"
      },
      "source": [
        "# some plotting using numpy's logical indexing\n",
        "sns.set_context('paper')\n",
        "plt.figure(figsize=(20,20))\n",
        "plt.plot(\n",
        "    data[idx==0,0],data[idx==0,1],'or',\n",
        "    data[idx==1,0],data[idx==1,1],'ob',#blue circles\n",
        "    data[idx==2,0],data[idx==2,1],'oy', #yellow circles\n",
        "    data[idx==3,0],data[idx==3,1],'om', #magenta circles\n",
        "    data[idx==4,0],data[idx==4,1],'ok',#black circles\n",
        "     )"
      ],
      "execution_count": null,
      "outputs": []
    },
    {
      "cell_type": "code",
      "metadata": {
        "id": "X_fZNimcyFXO"
      },
      "source": [
        "# some plotting using numpy's logical indexing\n",
        "sns.set_context('paper')\n",
        "plt.figure(figsize=(15,10))\n",
        "plt.plot(data[idx==0,0],data[idx==0,1],'or',#red circles\n",
        "     data[idx==1,0],data[idx==1,1],'ob',#blue circles\n",
        "     data[idx==2,0],data[idx==2,1],'oy', #yellow circles\n",
        "     data[idx==3,0],data[idx==3,1],'om', #magenta circles\n",
        "     data[idx==4,0],data[idx==4,1],'ok',#black circles\n",
        "    \n",
        "     \n",
        "        \n",
        "        \n",
        "        \n",
        "        \n",
        "        )\n",
        "plt.plot(centroids[:,0],centroids[:,1],'sg',markersize=8, )\n",
        "\n",
        "\n",
        "\n",
        "\n",
        "circle1 = Line2D(range(1), range(1), color = 'red', linewidth = 0, marker= 'o', markerfacecolor='red')\n",
        "circle2 = Line2D(range(1), range(1), color = 'blue', linewidth = 0,marker= 'o', markerfacecolor='blue')\n",
        "circle3 = Line2D(range(1), range(1), color = 'yellow',linewidth=0,  marker= 'o', markerfacecolor='yellow')\n",
        "circle4 = Line2D(range(1), range(1), color = 'magenta', linewidth=0,marker= 'o', markerfacecolor='magenta')\n",
        "circle5 = Line2D(range(1), range(1), color = 'black', linewidth = 0,marker= 'o', markerfacecolor='black')\n",
        "\n",
        "plt.legend((circle1, circle2, circle3, circle4, circle5)\n",
        "           , ('Cluster 1','Cluster 2', 'Cluster 3', 'Cluster 4', 'Cluster 5'), numpoints = 1, loc = 0, )\n",
        "\n",
        "\n",
        "plt.show()"
      ],
      "execution_count": null,
      "outputs": []
    }
  ]
}