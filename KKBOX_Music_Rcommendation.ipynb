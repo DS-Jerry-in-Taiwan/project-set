{
  "nbformat": 4,
  "nbformat_minor": 0,
  "metadata": {
    "colab": {
      "name": "KKBOX Music Rcommendation.ipynb",
      "private_outputs": true,
      "provenance": [],
      "collapsed_sections": [],
      "authorship_tag": "ABX9TyO+kyhszY1WbGiGnUHigkC1",
      "include_colab_link": true
    },
    "kernelspec": {
      "name": "python3",
      "display_name": "Python 3"
    },
    "language_info": {
      "name": "python"
    }
  },
  "cells": [
    {
      "cell_type": "markdown",
      "metadata": {
        "id": "view-in-github",
        "colab_type": "text"
      },
      "source": [
        "<a href=\"https://colab.research.google.com/github/DS-Jerry-in-Taiwan/project-set/blob/main/KKBOX_Music_Rcommendation.ipynb\" target=\"_parent\"><img src=\"https://colab.research.google.com/assets/colab-badge.svg\" alt=\"Open In Colab\"/></a>"
      ]
    },
    {
      "cell_type": "markdown",
      "metadata": {
        "id": "L1_6mjaJYVXf"
      },
      "source": [
        "1. [Music Recommendation -- Random Forest, XGboost](https://www.kaggle.com/myonin/music-recommendation-random-forest-xgboost)\n",
        "2. [Recommendation System with 83% accuracy lgbm](https://www.kaggle.com/rohandx1996/recommendation-system-with-83-accuracy-lgbm)\n",
        "3. [Exploring the songs](https://www.kaggle.com/kunstmord/exploring-the-songs)\n",
        "4. [Interesting KKBox Insights && New Features](https://www.kaggle.com/jeru666/interesting-kkbox-insights-new-features)\n",
        "5. [Beat KKBox Benchmark without using metadata [0.62]](https://www.kaggle.com/lystdo/beat-kkbox-benchmark-without-using-metadata-0-62)\n"
      ]
    },
    {
      "cell_type": "code",
      "metadata": {
        "id": "amkrsx8gvA74"
      },
      "source": [
        "!pip install py7zr"
      ],
      "execution_count": null,
      "outputs": []
    },
    {
      "cell_type": "code",
      "metadata": {
        "id": "lC0aDr1PmkP7"
      },
      "source": [
        "from google.colab import drive\n",
        "drive.mount('/content/drive')"
      ],
      "execution_count": null,
      "outputs": []
    },
    {
      "cell_type": "code",
      "metadata": {
        "id": "JNlKEClumsCJ"
      },
      "source": [
        "import os\n",
        "import pandas as pd\n",
        "import numpy as np\n",
        "import matplotlib.pyplot as plt\n",
        "import seaborn as sns\n",
        "import matplotlib as mpl\n",
        "\n",
        "os.getcwd()\n",
        "main_path = '/content/drive/MyDrive/adventure_time/KKBOX Recommendation'\n",
        "os.chdir(main_path)\n"
      ],
      "execution_count": null,
      "outputs": []
    },
    {
      "cell_type": "markdown",
      "metadata": {
        "id": "KDPe0ZpK5nr9"
      },
      "source": [
        "# Zip file to the current working direction"
      ]
    },
    {
      "cell_type": "code",
      "metadata": {
        "id": "HuSwUylhpykw"
      },
      "source": [
        "import zipfile\n",
        "import py7zr\n",
        "zip_file_list = [os.path.join(main_path,s) for s in os.listdir()]\n",
        "\n",
        "#Zip file function\n",
        "def zip_function(file,path,output_path):\n",
        "  temp_path = os.path.join(path,file)\n",
        "  if zipfile.is_zipfile(temp_path):\n",
        "    with zipfile.ZipFile(temp_path,'r') as zip_file:\n",
        "      print(zip_file.namelist())\n",
        "      zip_file.extractall(output_path)\n",
        "  elif py7zr.is_7zfile(temp_path):\n",
        "    with py7zr.SevenZipFile(temp_path,'r') as seven_zip_file:\n",
        "      print(seven_zip_file.getnames())\n",
        "      seven_zip_file.extractall(output_path)\n",
        "\n",
        "\n",
        "for i in os.listdir():\n",
        "  print(i)\n",
        "  zip_function(i,main_path,os.getcwd())\n",
        " "
      ],
      "execution_count": null,
      "outputs": []
    },
    {
      "cell_type": "markdown",
      "metadata": {
        "id": "0LemhbTpCPKz"
      },
      "source": [
        "# Read files"
      ]
    },
    {
      "cell_type": "code",
      "metadata": {
        "id": "LZ3DhW7s8gfo"
      },
      "source": [
        "file_dict = dict()\n",
        "\n",
        "#Check how many files should be read\n",
        "for i in os.listdir():\n",
        "  idx = i.split(\".\")[-1]\n",
        "  val = i\n",
        "  # print(idx);print(val)\n",
        "  try:\n",
        "    file_dict[idx].extend([val])\n",
        "  except:\n",
        "    file_dict[idx] = [val]\n",
        "\n",
        "# List the files should be read\n",
        "file_dict['csv']"
      ],
      "execution_count": null,
      "outputs": []
    },
    {
      "cell_type": "code",
      "metadata": {
        "id": "YFsM1j_g6WgQ"
      },
      "source": [
        "#Read the files and assign to the corresponding variable\n",
        "members = pd.read_csv(file_dict['csv'][0])\n",
        "sample_submission = pd.read_csv(file_dict['csv'][1])\n",
        "song_extra_info = pd.read_csv(file_dict['csv'][2])\n",
        "songs = pd.read_csv(file_dict['csv'][3])\n",
        "test = pd.read_csv(file_dict['csv'][4])\n",
        "train = pd.read_csv(file_dict['csv'][5])"
      ],
      "execution_count": null,
      "outputs": []
    },
    {
      "cell_type": "code",
      "metadata": {
        "id": "leWKCrbYCohV"
      },
      "source": [
        "def null_detector(df,nrow):\n",
        "  df = pd.DataFrame((df.isnull().sum()/nrow)*100).reset_index()\n",
        "  # df.rename(columns = {\"`0`\":\"missing val\"},inplace=True)\n",
        "  df.columns = ['index','missing val']\n",
        "  # df.columns[1] = 'null'\n",
        "  return df\n",
        "\n",
        "tmp = dict()\n",
        "for i in [\"train\",'test',\"sample_submission\",\"songs\",\"members\",\"song_extra_info\"]:\n",
        "  tmp[i] = null_detector(eval(i),eval(i+\".\"+\"shape[0]\"))\n"
      ],
      "execution_count": null,
      "outputs": []
    },
    {
      "cell_type": "code",
      "metadata": {
        "id": "-5RosVH0C-3S"
      },
      "source": [
        "def df_col(df):\n",
        "  return df.columns\n",
        "\n",
        "col_dict = dict()\n",
        "for i in [\"train\",'test',\"sample_submission\",\"songs\",\"members\",\"song_extra_info\"]:\n",
        "  col_dict[i] = df_col(eval(i))\n",
        "\n",
        "\n",
        "#Overview columns of dataframe\n",
        "col_dict"
      ],
      "execution_count": null,
      "outputs": []
    },
    {
      "cell_type": "code",
      "metadata": {
        "id": "lz61iGiXOsI_"
      },
      "source": [
        "col_dict"
      ],
      "execution_count": null,
      "outputs": []
    },
    {
      "cell_type": "code",
      "metadata": {
        "id": "fwzuaaOwC9iM"
      },
      "source": [
        "songs.groupby(['genre_ids'])[['song_id']].count().sort_values(\"song_id\",ascending=False)"
      ],
      "execution_count": null,
      "outputs": []
    },
    {
      "cell_type": "code",
      "metadata": {
        "id": "2eJMmwBAO0B9"
      },
      "source": [
        "# fig,ax = plt.figure(figszie(10,10))\n",
        "plt.figure(figsize=(10,5))\n",
        "sns.set(font_scale = 2)\n",
        "sns.countplot(x=\"source_type\",hue=\"source_type\",data=train,dodge=False,\n",
        "              order=train.source_type.value_counts().index)\n",
        "plt.legend(fontsize=10)\n",
        "plt.xlabel(\"source_type\",fontsize=30)\n",
        "plt.ylabel(\"count\",fontsize=30)\n",
        "plt.xticks(rotation=45,fontsize=10)\n",
        "plt.yticks(fontsize=10)\n",
        "# plt.annotate()\n",
        "plt.title(\"Source_type count plot\")\n"
      ],
      "execution_count": null,
      "outputs": []
    },
    {
      "cell_type": "code",
      "metadata": {
        "id": "5LeDjNyeZt8V"
      },
      "source": [
        "plt.figure(figsize=(10,5))\n",
        "sns.set(font_scale=2)\n",
        "sns.countplot(x=\"source_system_tab\",hue=\"source_system_tab\",dodge=False,data=train,order=train.source_system_tab.value_counts().index)\n",
        "plt.title(\"Source_system_tab count\")\n",
        "plt.legend(fontsize=10)\n",
        "plt.xlabel(\"Source_system_tab\",fontsize=30)\n",
        "plt.ylabel(\"Count\",fontsize=30)\n",
        "plt.xticks(fontsize=10,rotation=45)\n",
        "plt.yticks(fontsize=10)"
      ],
      "execution_count": null,
      "outputs": []
    },
    {
      "cell_type": "code",
      "metadata": {
        "id": "-mTmHa6KVV-k"
      },
      "source": [
        "mpl.rcParams['font.size']=10\n",
        "labels=members.city.unique()\n",
        "plt.figure(figsize=(10,15))\n",
        "plt.pie(members.city.value_counts(),labels=labels,autopct='%1.1f%%')\n",
        "plt.legend(fontsize=10,loc=9,ncol=12)\n",
        "plt.title(\"Test\")\n",
        "\n",
        "plt.show()"
      ],
      "execution_count": null,
      "outputs": []
    },
    {
      "cell_type": "markdown",
      "metadata": {
        "id": "dcKmtHrMCFV3"
      },
      "source": [
        "# Code play group\n",
        "---"
      ]
    },
    {
      "cell_type": "markdown",
      "metadata": {
        "id": "irNUPlOnB6Ml"
      },
      "source": [
        "#Try to read file by for loop, but somehow it doesn't work well"
      ]
    },
    {
      "cell_type": "code",
      "metadata": {
        "id": "FrUAU906xF3g"
      },
      "source": [
        "import pandas as pd\n",
        "import numpy as np\n",
        "\n",
        "for i in os.listdir():\n",
        "  print(i)\n",
        "  for ss in [s.split(\".\")[0] for s in [i]]:\n",
        "    try:\n",
        "      print(ss)\n",
        "      ss = pd.read_csv(i)\n",
        "      print(ss.head())\n",
        "      \n",
        "    except:\n",
        "      next"
      ],
      "execution_count": null,
      "outputs": []
    }
  ]
}